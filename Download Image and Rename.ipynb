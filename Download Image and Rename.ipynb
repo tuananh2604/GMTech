{
 "cells": [
  {
   "cell_type": "code",
   "execution_count": null,
   "metadata": {},
   "outputs": [],
   "source": [
    "import pandas as pd\n",
    "import requests\n",
    "import os"
   ]
  },
  {
   "cell_type": "code",
   "execution_count": null,
   "metadata": {},
   "outputs": [],
   "source": [
    "data = pd.read_excel(\"C:/Users/caotu/Downloads/Name.xlsx\")\n",
    "data.head(999999)"
   ]
  },
  {
   "cell_type": "code",
   "execution_count": 4,
   "metadata": {},
   "outputs": [],
   "source": [
    "#Create the directory if it doesn't exist\n",
    "if not os.path.exists('Name'):\n",
    "    os.makedirs('Name')\n",
    "\n",
    "# Download the images and save them in the directory\n",
    "for url in data['personal_id_url'][0:100]:\n",
    "    response = requests.get(url)\n",
    "    filename = url.split('/')[-1]\n",
    "    with open(f'Name/{filename}', 'wb') as f:\n",
    "        f.write(response.content)\n"
   ]
  },
  {
   "cell_type": "code",
   "execution_count": 3,
   "metadata": {},
   "outputs": [],
   "source": [
    "folder_path = 'C:/Users/caotu/Downloads/Python/Name' # Đường dẫn đến folder chứa các file\n",
    "file_exts = ['.jpg', '.jpeg', '.png'] # Các định dạng file cần đổi tên\n",
    "\n",
    "i = 0 # Số thứ tự bắt đầu\n",
    "\n",
    "for file_name in os.listdir(folder_path):\n",
    "    file_ext = os.path.splitext(file_name)[1] # Lấy định dạng file\n",
    "    if file_ext in file_exts: # Nếu là file ảnh\n",
    "        old_path = os.path.join(folder_path, file_name) # Đường dẫn tới file cũ\n",
    "        new_name = str(i) + file_ext # Tạo tên mới cho file\n",
    "        new_path = os.path.join(folder_path, new_name) # Đường dẫn tới file mới\n",
    "        os.rename(old_path, new_path) # Đổi tên file\n",
    "        i += 1 # Tăng số thứ tự lên 1"
   ]
  }
 ],
 "metadata": {
  "kernelspec": {
   "display_name": "base",
   "language": "python",
   "name": "python3"
  },
  "language_info": {
   "codemirror_mode": {
    "name": "ipython",
    "version": 3
   },
   "file_extension": ".py",
   "mimetype": "text/x-python",
   "name": "python",
   "nbconvert_exporter": "python",
   "pygments_lexer": "ipython3",
   "version": "3.10.10"
  },
  "orig_nbformat": 4
 },
 "nbformat": 4,
 "nbformat_minor": 2
}
