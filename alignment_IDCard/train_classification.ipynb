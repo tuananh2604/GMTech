{
  "nbformat": 4,
  "nbformat_minor": 0,
  "metadata": {
    "colab": {
      "provenance": [],
      "gpuType": "T4"
    },
    "kernelspec": {
      "name": "python3",
      "display_name": "Python 3"
    },
    "language_info": {
      "name": "python"
    },
    "accelerator": "GPU",
    "gpuClass": "standard"
  },
  "cells": [
    {
      "cell_type": "code",
      "source": [
        "!pip install keras"
      ],
      "metadata": {
        "colab": {
          "base_uri": "https://localhost:8080/"
        },
        "id": "qhjlsTk6KLlT",
        "outputId": "5560d9b8-b8ef-44be-ee34-f100bd48d186"
      },
      "execution_count": 9,
      "outputs": [
        {
          "output_type": "stream",
          "name": "stdout",
          "text": [
            "Looking in indexes: https://pypi.org/simple, https://us-python.pkg.dev/colab-wheels/public/simple/\n",
            "Requirement already satisfied: keras in /usr/local/lib/python3.10/dist-packages (2.12.0)\n"
          ]
        }
      ]
    },
    {
      "cell_type": "code",
      "execution_count": 14,
      "metadata": {
        "id": "zwN7KJvLGxtL"
      },
      "outputs": [],
      "source": [
        "from tensorflow.keras.applications.resnet50 import ResNet50, preprocess_input\n",
        "from keras.preprocessing.image import ImageDataGenerator\n",
        "from keras.models import Model\n",
        "from keras.layers import Dense, GlobalAveragePooling2D\n",
        "from keras.optimizers import Adam\n",
        "from keras.callbacks import ModelCheckpoint\n",
        "from tensorflow.keras.preprocessing.image import load_img, img_to_array\n",
        "from keras.models import load_model\n",
        "import numpy as np"
      ]
    },
    {
      "cell_type": "code",
      "source": [
        "# Define the number of classes\n",
        "num_classes = 3\n",
        "\n",
        "# Define the image size\n",
        "img_size = (224, 224)\n",
        "\n",
        "# Define the batch size\n",
        "batch_size = 32\n",
        "\n",
        "# Define the number of epochs\n",
        "epochs = 30\n",
        "\n",
        "# Define the path to save the model\n",
        "model_path = 'model.h5'\n",
        "\n",
        "# Define the path to your dataset\n",
        "dataset_path = '/content/drive/MyDrive/classification'"
      ],
      "metadata": {
        "id": "AAPerg8iIUp-"
      },
      "execution_count": 15,
      "outputs": []
    },
    {
      "cell_type": "code",
      "source": [
        "# Create the data generators\n",
        "train_datagen = ImageDataGenerator(preprocessing_function=preprocess_input,\n",
        "                                   rotation_range=20,\n",
        "                                   width_shift_range=0.2,\n",
        "                                   height_shift_range=0.2,\n",
        "                                   horizontal_flip=True,\n",
        "                                   validation_split=0.2)  # set validation split"
      ],
      "metadata": {
        "id": "o9Cw05l-IUz7"
      },
      "execution_count": 16,
      "outputs": []
    },
    {
      "cell_type": "code",
      "source": [
        "train_generator = train_datagen.flow_from_directory(dataset_path,\n",
        "                                                    target_size=img_size,\n",
        "                                                    batch_size=batch_size,\n",
        "                                                    class_mode='categorical',\n",
        "                                                    subset='training')  # set as training data\n",
        "\n",
        "validation_generator = train_datagen.flow_from_directory(dataset_path,  # same directory as training data\n",
        "                                                         target_size=img_size,\n",
        "                                                         batch_size=batch_size,\n",
        "                                                         class_mode='categorical',\n",
        "                                                         subset='validation')  # set as validation data"
      ],
      "metadata": {
        "colab": {
          "base_uri": "https://localhost:8080/"
        },
        "id": "UfN31A0HIU2c",
        "outputId": "1a27e1bd-41a1-4ac3-cbe7-40dbf74c7c05"
      },
      "execution_count": 17,
      "outputs": [
        {
          "output_type": "stream",
          "name": "stdout",
          "text": [
            "Found 707 images belonging to 3 classes.\n",
            "Found 175 images belonging to 3 classes.\n"
          ]
        }
      ]
    },
    {
      "cell_type": "code",
      "source": [
        "# Load the ResNet50 model with pre-trained weights\n",
        "base_model = ResNet50(weights='imagenet', include_top=False)\n",
        "\n",
        "# Add a global spatial average pooling layer\n",
        "x = base_model.output\n",
        "x = GlobalAveragePooling2D()(x)\n",
        "\n",
        "# Add a fully-connected layer\n",
        "x = Dense(1024, activation='relu')(x)\n",
        "\n",
        "# Add a logistic layer\n",
        "predictions = Dense(num_classes, activation='softmax')(x)\n",
        "\n",
        "# Define the model\n",
        "model = Model(inputs=base_model.input, outputs=predictions)\n",
        "\n",
        "# Freeze the layers of the base model\n",
        "for layer in base_model.layers:\n",
        "    layer.trainable = False"
      ],
      "metadata": {
        "colab": {
          "base_uri": "https://localhost:8080/"
        },
        "id": "-I9DTcs6IU46",
        "outputId": "51fc23e9-afc8-4dc2-de45-a15a0baa411a"
      },
      "execution_count": 18,
      "outputs": [
        {
          "output_type": "stream",
          "name": "stdout",
          "text": [
            "Downloading data from https://storage.googleapis.com/tensorflow/keras-applications/resnet/resnet50_weights_tf_dim_ordering_tf_kernels_notop.h5\n",
            "94765736/94765736 [==============================] - 0s 0us/step\n"
          ]
        }
      ]
    },
    {
      "cell_type": "code",
      "source": [
        "# Compile the model\n",
        "model.compile(optimizer=Adam(), loss='categorical_crossentropy', metrics=['accuracy'])"
      ],
      "metadata": {
        "id": "n5Q1SR09Ihbw"
      },
      "execution_count": 19,
      "outputs": []
    },
    {
      "cell_type": "code",
      "source": [
        "# Define a checkpoint to save the best model\n",
        "checkpoint = ModelCheckpoint(model_path, monitor='val_accuracy', verbose=1, save_best_only=True, mode='max')"
      ],
      "metadata": {
        "id": "fR7OGXHRIheY"
      },
      "execution_count": 20,
      "outputs": []
    },
    {
      "cell_type": "code",
      "source": [
        "# Train the model\n",
        "model.fit(train_generator,\n",
        "          epochs=epochs,\n",
        "          validation_data=validation_generator,\n",
        "          callbacks=[checkpoint])"
      ],
      "metadata": {
        "colab": {
          "base_uri": "https://localhost:8080/"
        },
        "id": "7tAOVyXNIpmt",
        "outputId": "80aaeb1d-8ef7-4d46-f4c4-5cb4d517d26c"
      },
      "execution_count": 21,
      "outputs": [
        {
          "output_type": "stream",
          "name": "stdout",
          "text": [
            "Epoch 1/30\n",
            "23/23 [==============================] - ETA: 0s - loss: 1.3845 - accuracy: 0.6450\n",
            "Epoch 1: val_accuracy improved from -inf to 0.81714, saving model to model.h5\n",
            "23/23 [==============================] - 114s 4s/step - loss: 1.3845 - accuracy: 0.6450 - val_loss: 0.5177 - val_accuracy: 0.8171\n",
            "Epoch 2/30\n",
            "23/23 [==============================] - ETA: 0s - loss: 0.4436 - accuracy: 0.8303\n",
            "Epoch 2: val_accuracy improved from 0.81714 to 0.86286, saving model to model.h5\n",
            "23/23 [==============================] - 15s 673ms/step - loss: 0.4436 - accuracy: 0.8303 - val_loss: 0.4034 - val_accuracy: 0.8629\n",
            "Epoch 3/30\n",
            "23/23 [==============================] - ETA: 0s - loss: 0.4413 - accuracy: 0.8388\n",
            "Epoch 3: val_accuracy improved from 0.86286 to 0.89143, saving model to model.h5\n",
            "23/23 [==============================] - 18s 774ms/step - loss: 0.4413 - accuracy: 0.8388 - val_loss: 0.2854 - val_accuracy: 0.8914\n",
            "Epoch 4/30\n",
            "23/23 [==============================] - ETA: 0s - loss: 0.2533 - accuracy: 0.9081\n",
            "Epoch 4: val_accuracy did not improve from 0.89143\n",
            "23/23 [==============================] - 15s 656ms/step - loss: 0.2533 - accuracy: 0.9081 - val_loss: 0.3190 - val_accuracy: 0.8857\n",
            "Epoch 5/30\n",
            "23/23 [==============================] - ETA: 0s - loss: 0.2530 - accuracy: 0.9151\n",
            "Epoch 5: val_accuracy did not improve from 0.89143\n",
            "23/23 [==============================] - 15s 654ms/step - loss: 0.2530 - accuracy: 0.9151 - val_loss: 0.4711 - val_accuracy: 0.8400\n",
            "Epoch 6/30\n",
            "23/23 [==============================] - ETA: 0s - loss: 0.2519 - accuracy: 0.9123\n",
            "Epoch 6: val_accuracy improved from 0.89143 to 0.92571, saving model to model.h5\n",
            "23/23 [==============================] - 16s 682ms/step - loss: 0.2519 - accuracy: 0.9123 - val_loss: 0.2462 - val_accuracy: 0.9257\n",
            "Epoch 7/30\n",
            "23/23 [==============================] - ETA: 0s - loss: 0.3535 - accuracy: 0.8925\n",
            "Epoch 7: val_accuracy did not improve from 0.92571\n",
            "23/23 [==============================] - 15s 655ms/step - loss: 0.3535 - accuracy: 0.8925 - val_loss: 0.3632 - val_accuracy: 0.8686\n",
            "Epoch 8/30\n",
            "22/23 [===========================>..] - ETA: 0s - loss: 0.2486 - accuracy: 0.9190\n",
            "Epoch 8: val_accuracy did not improve from 0.92571\n",
            "23/23 [==============================] - 15s 650ms/step - loss: 0.2486 - accuracy: 0.9194 - val_loss: 0.2542 - val_accuracy: 0.9200\n",
            "Epoch 9/30\n",
            "23/23 [==============================] - ETA: 0s - loss: 0.2598 - accuracy: 0.9137\n",
            "Epoch 9: val_accuracy did not improve from 0.92571\n",
            "23/23 [==============================] - 17s 760ms/step - loss: 0.2598 - accuracy: 0.9137 - val_loss: 0.4540 - val_accuracy: 0.8114\n",
            "Epoch 10/30\n",
            "23/23 [==============================] - ETA: 0s - loss: 0.2472 - accuracy: 0.9307\n",
            "Epoch 10: val_accuracy did not improve from 0.92571\n",
            "23/23 [==============================] - 15s 657ms/step - loss: 0.2472 - accuracy: 0.9307 - val_loss: 0.2741 - val_accuracy: 0.9143\n",
            "Epoch 11/30\n",
            "23/23 [==============================] - ETA: 0s - loss: 0.1918 - accuracy: 0.9406\n",
            "Epoch 11: val_accuracy improved from 0.92571 to 0.94286, saving model to model.h5\n",
            "23/23 [==============================] - 16s 687ms/step - loss: 0.1918 - accuracy: 0.9406 - val_loss: 0.2388 - val_accuracy: 0.9429\n",
            "Epoch 12/30\n",
            "23/23 [==============================] - ETA: 0s - loss: 0.1828 - accuracy: 0.9420\n",
            "Epoch 12: val_accuracy did not improve from 0.94286\n",
            "23/23 [==============================] - 17s 740ms/step - loss: 0.1828 - accuracy: 0.9420 - val_loss: 0.2266 - val_accuracy: 0.9314\n",
            "Epoch 13/30\n",
            "23/23 [==============================] - ETA: 0s - loss: 0.1639 - accuracy: 0.9519\n",
            "Epoch 13: val_accuracy did not improve from 0.94286\n",
            "23/23 [==============================] - 15s 651ms/step - loss: 0.1639 - accuracy: 0.9519 - val_loss: 0.2639 - val_accuracy: 0.9371\n",
            "Epoch 14/30\n",
            "23/23 [==============================] - ETA: 0s - loss: 0.1900 - accuracy: 0.9448\n",
            "Epoch 14: val_accuracy improved from 0.94286 to 0.94857, saving model to model.h5\n",
            "23/23 [==============================] - 15s 672ms/step - loss: 0.1900 - accuracy: 0.9448 - val_loss: 0.2192 - val_accuracy: 0.9486\n",
            "Epoch 15/30\n",
            "23/23 [==============================] - ETA: 0s - loss: 0.2173 - accuracy: 0.9194\n",
            "Epoch 15: val_accuracy did not improve from 0.94857\n",
            "23/23 [==============================] - 17s 762ms/step - loss: 0.2173 - accuracy: 0.9194 - val_loss: 0.4148 - val_accuracy: 0.8743\n",
            "Epoch 16/30\n",
            "23/23 [==============================] - ETA: 0s - loss: 0.2255 - accuracy: 0.9406\n",
            "Epoch 16: val_accuracy did not improve from 0.94857\n",
            "23/23 [==============================] - 15s 654ms/step - loss: 0.2255 - accuracy: 0.9406 - val_loss: 0.2450 - val_accuracy: 0.9200\n",
            "Epoch 17/30\n",
            "23/23 [==============================] - ETA: 0s - loss: 0.1911 - accuracy: 0.9420\n",
            "Epoch 17: val_accuracy improved from 0.94857 to 0.95429, saving model to model.h5\n",
            "23/23 [==============================] - 16s 684ms/step - loss: 0.1911 - accuracy: 0.9420 - val_loss: 0.1845 - val_accuracy: 0.9543\n",
            "Epoch 18/30\n",
            "23/23 [==============================] - ETA: 0s - loss: 0.1485 - accuracy: 0.9547\n",
            "Epoch 18: val_accuracy did not improve from 0.95429\n",
            "23/23 [==============================] - 15s 662ms/step - loss: 0.1485 - accuracy: 0.9547 - val_loss: 0.1990 - val_accuracy: 0.9429\n",
            "Epoch 19/30\n",
            "23/23 [==============================] - ETA: 0s - loss: 0.1095 - accuracy: 0.9703\n",
            "Epoch 19: val_accuracy did not improve from 0.95429\n",
            "23/23 [==============================] - 15s 659ms/step - loss: 0.1095 - accuracy: 0.9703 - val_loss: 0.2194 - val_accuracy: 0.9429\n",
            "Epoch 20/30\n",
            "23/23 [==============================] - ETA: 0s - loss: 0.1256 - accuracy: 0.9661\n",
            "Epoch 20: val_accuracy did not improve from 0.95429\n",
            "23/23 [==============================] - 15s 656ms/step - loss: 0.1256 - accuracy: 0.9661 - val_loss: 0.1836 - val_accuracy: 0.9543\n",
            "Epoch 21/30\n",
            "23/23 [==============================] - ETA: 0s - loss: 0.1103 - accuracy: 0.9661\n",
            "Epoch 21: val_accuracy did not improve from 0.95429\n",
            "23/23 [==============================] - 15s 648ms/step - loss: 0.1103 - accuracy: 0.9661 - val_loss: 0.2013 - val_accuracy: 0.9486\n",
            "Epoch 22/30\n",
            "23/23 [==============================] - ETA: 0s - loss: 0.1355 - accuracy: 0.9632\n",
            "Epoch 22: val_accuracy did not improve from 0.95429\n",
            "23/23 [==============================] - 15s 662ms/step - loss: 0.1355 - accuracy: 0.9632 - val_loss: 0.3251 - val_accuracy: 0.8914\n",
            "Epoch 23/30\n",
            "23/23 [==============================] - ETA: 0s - loss: 0.1577 - accuracy: 0.9434\n",
            "Epoch 23: val_accuracy did not improve from 0.95429\n",
            "23/23 [==============================] - 15s 657ms/step - loss: 0.1577 - accuracy: 0.9434 - val_loss: 0.1917 - val_accuracy: 0.9543\n",
            "Epoch 24/30\n",
            "23/23 [==============================] - ETA: 0s - loss: 0.1171 - accuracy: 0.9703\n",
            "Epoch 24: val_accuracy improved from 0.95429 to 0.97143, saving model to model.h5\n",
            "23/23 [==============================] - 17s 728ms/step - loss: 0.1171 - accuracy: 0.9703 - val_loss: 0.1525 - val_accuracy: 0.9714\n",
            "Epoch 25/30\n",
            "23/23 [==============================] - ETA: 0s - loss: 0.1314 - accuracy: 0.9590\n",
            "Epoch 25: val_accuracy did not improve from 0.97143\n",
            "23/23 [==============================] - 15s 663ms/step - loss: 0.1314 - accuracy: 0.9590 - val_loss: 0.2378 - val_accuracy: 0.9314\n",
            "Epoch 26/30\n",
            "23/23 [==============================] - ETA: 0s - loss: 0.1199 - accuracy: 0.9661\n",
            "Epoch 26: val_accuracy did not improve from 0.97143\n",
            "23/23 [==============================] - 15s 655ms/step - loss: 0.1199 - accuracy: 0.9661 - val_loss: 0.2850 - val_accuracy: 0.9257\n",
            "Epoch 27/30\n",
            "23/23 [==============================] - ETA: 0s - loss: 0.1186 - accuracy: 0.9717\n",
            "Epoch 27: val_accuracy did not improve from 0.97143\n",
            "23/23 [==============================] - 17s 749ms/step - loss: 0.1186 - accuracy: 0.9717 - val_loss: 0.1871 - val_accuracy: 0.9429\n",
            "Epoch 28/30\n",
            "23/23 [==============================] - ETA: 0s - loss: 0.1101 - accuracy: 0.9646\n",
            "Epoch 28: val_accuracy did not improve from 0.97143\n",
            "23/23 [==============================] - 15s 656ms/step - loss: 0.1101 - accuracy: 0.9646 - val_loss: 0.3232 - val_accuracy: 0.9029\n",
            "Epoch 29/30\n",
            "23/23 [==============================] - ETA: 0s - loss: 0.1580 - accuracy: 0.9448\n",
            "Epoch 29: val_accuracy did not improve from 0.97143\n",
            "23/23 [==============================] - 15s 653ms/step - loss: 0.1580 - accuracy: 0.9448 - val_loss: 0.1831 - val_accuracy: 0.9371\n",
            "Epoch 30/30\n",
            "23/23 [==============================] - ETA: 0s - loss: 0.1025 - accuracy: 0.9590\n",
            "Epoch 30: val_accuracy did not improve from 0.97143\n",
            "23/23 [==============================] - 15s 675ms/step - loss: 0.1025 - accuracy: 0.9590 - val_loss: 0.1835 - val_accuracy: 0.9600\n"
          ]
        },
        {
          "output_type": "execute_result",
          "data": {
            "text/plain": [
              "<keras.callbacks.History at 0x7f65326607f0>"
            ]
          },
          "metadata": {},
          "execution_count": 21
        }
      ]
    },
    {
      "cell_type": "code",
      "source": [
        "# Train the model\n",
        "model.fit(train_generator,\n",
        "          epochs=20,\n",
        "          validation_data=validation_generator,\n",
        "          callbacks=[checkpoint])"
      ],
      "metadata": {
        "colab": {
          "base_uri": "https://localhost:8080/"
        },
        "id": "BlfNqYDLIppR",
        "outputId": "4662bd19-a866-4a6e-e5f1-39836980239d"
      },
      "execution_count": 22,
      "outputs": [
        {
          "output_type": "stream",
          "name": "stdout",
          "text": [
            "Epoch 1/20\n",
            "23/23 [==============================] - ETA: 0s - loss: 0.1036 - accuracy: 0.9689\n",
            "Epoch 1: val_accuracy did not improve from 0.97143\n",
            "23/23 [==============================] - 16s 696ms/step - loss: 0.1036 - accuracy: 0.9689 - val_loss: 0.1646 - val_accuracy: 0.9657\n",
            "Epoch 2/20\n",
            "23/23 [==============================] - ETA: 0s - loss: 0.1416 - accuracy: 0.9562\n",
            "Epoch 2: val_accuracy did not improve from 0.97143\n",
            "23/23 [==============================] - 17s 758ms/step - loss: 0.1416 - accuracy: 0.9562 - val_loss: 0.3058 - val_accuracy: 0.9257\n",
            "Epoch 3/20\n",
            "23/23 [==============================] - ETA: 0s - loss: 0.1354 - accuracy: 0.9590\n",
            "Epoch 3: val_accuracy did not improve from 0.97143\n",
            "23/23 [==============================] - 15s 649ms/step - loss: 0.1354 - accuracy: 0.9590 - val_loss: 0.4552 - val_accuracy: 0.8743\n",
            "Epoch 4/20\n",
            "23/23 [==============================] - ETA: 0s - loss: 0.1710 - accuracy: 0.9477\n",
            "Epoch 4: val_accuracy did not improve from 0.97143\n",
            "23/23 [==============================] - 17s 749ms/step - loss: 0.1710 - accuracy: 0.9477 - val_loss: 0.3630 - val_accuracy: 0.9086\n",
            "Epoch 5/20\n",
            "23/23 [==============================] - ETA: 0s - loss: 0.1177 - accuracy: 0.9604\n",
            "Epoch 5: val_accuracy did not improve from 0.97143\n",
            "23/23 [==============================] - 15s 652ms/step - loss: 0.1177 - accuracy: 0.9604 - val_loss: 0.2339 - val_accuracy: 0.9486\n",
            "Epoch 6/20\n",
            "23/23 [==============================] - ETA: 0s - loss: 0.1002 - accuracy: 0.9745\n",
            "Epoch 6: val_accuracy did not improve from 0.97143\n",
            "23/23 [==============================] - 15s 663ms/step - loss: 0.1002 - accuracy: 0.9745 - val_loss: 0.1908 - val_accuracy: 0.9600\n",
            "Epoch 7/20\n",
            "23/23 [==============================] - ETA: 0s - loss: 0.0921 - accuracy: 0.9717\n",
            "Epoch 7: val_accuracy did not improve from 0.97143\n",
            "23/23 [==============================] - 17s 736ms/step - loss: 0.0921 - accuracy: 0.9717 - val_loss: 0.2825 - val_accuracy: 0.9314\n",
            "Epoch 8/20\n",
            "23/23 [==============================] - ETA: 0s - loss: 0.1124 - accuracy: 0.9661\n",
            "Epoch 8: val_accuracy did not improve from 0.97143\n",
            "23/23 [==============================] - 15s 661ms/step - loss: 0.1124 - accuracy: 0.9661 - val_loss: 0.1776 - val_accuracy: 0.9657\n",
            "Epoch 9/20\n",
            "23/23 [==============================] - ETA: 0s - loss: 0.0885 - accuracy: 0.9717\n",
            "Epoch 9: val_accuracy did not improve from 0.97143\n",
            "23/23 [==============================] - 16s 690ms/step - loss: 0.0885 - accuracy: 0.9717 - val_loss: 0.2005 - val_accuracy: 0.9486\n",
            "Epoch 10/20\n",
            "23/23 [==============================] - ETA: 0s - loss: 0.1699 - accuracy: 0.9505\n",
            "Epoch 10: val_accuracy did not improve from 0.97143\n",
            "23/23 [==============================] - 16s 697ms/step - loss: 0.1699 - accuracy: 0.9505 - val_loss: 0.2085 - val_accuracy: 0.9371\n",
            "Epoch 11/20\n",
            "23/23 [==============================] - ETA: 0s - loss: 0.0944 - accuracy: 0.9689\n",
            "Epoch 11: val_accuracy did not improve from 0.97143\n",
            "23/23 [==============================] - 18s 781ms/step - loss: 0.0944 - accuracy: 0.9689 - val_loss: 0.1939 - val_accuracy: 0.9429\n",
            "Epoch 12/20\n",
            "23/23 [==============================] - ETA: 0s - loss: 0.1012 - accuracy: 0.9646\n",
            "Epoch 12: val_accuracy did not improve from 0.97143\n",
            "23/23 [==============================] - 16s 696ms/step - loss: 0.1012 - accuracy: 0.9646 - val_loss: 0.3204 - val_accuracy: 0.8971\n",
            "Epoch 13/20\n",
            "23/23 [==============================] - ETA: 0s - loss: 0.2104 - accuracy: 0.9378\n",
            "Epoch 13: val_accuracy did not improve from 0.97143\n",
            "23/23 [==============================] - 16s 707ms/step - loss: 0.2104 - accuracy: 0.9378 - val_loss: 0.5394 - val_accuracy: 0.8400\n",
            "Epoch 14/20\n",
            "23/23 [==============================] - ETA: 0s - loss: 0.2200 - accuracy: 0.9279\n",
            "Epoch 14: val_accuracy did not improve from 0.97143\n",
            "23/23 [==============================] - 18s 764ms/step - loss: 0.2200 - accuracy: 0.9279 - val_loss: 0.3507 - val_accuracy: 0.8857\n",
            "Epoch 15/20\n",
            "22/23 [===========================>..] - ETA: 0s - loss: 0.1122 - accuracy: 0.9574\n",
            "Epoch 15: val_accuracy improved from 0.97143 to 0.98286, saving model to model.h5\n",
            "23/23 [==============================] - 17s 735ms/step - loss: 0.1119 - accuracy: 0.9576 - val_loss: 0.1466 - val_accuracy: 0.9829\n",
            "Epoch 16/20\n",
            "23/23 [==============================] - ETA: 0s - loss: 0.0875 - accuracy: 0.9731\n",
            "Epoch 16: val_accuracy did not improve from 0.98286\n",
            "23/23 [==============================] - 16s 678ms/step - loss: 0.0875 - accuracy: 0.9731 - val_loss: 0.2828 - val_accuracy: 0.9486\n",
            "Epoch 17/20\n",
            "23/23 [==============================] - ETA: 0s - loss: 0.1420 - accuracy: 0.9533\n",
            "Epoch 17: val_accuracy did not improve from 0.98286\n",
            "23/23 [==============================] - 16s 709ms/step - loss: 0.1420 - accuracy: 0.9533 - val_loss: 0.2515 - val_accuracy: 0.9429\n",
            "Epoch 18/20\n",
            "22/23 [===========================>..] - ETA: 0s - loss: 0.2089 - accuracy: 0.9347\n",
            "Epoch 18: val_accuracy did not improve from 0.98286\n",
            "23/23 [==============================] - 15s 662ms/step - loss: 0.2082 - accuracy: 0.9349 - val_loss: 0.2023 - val_accuracy: 0.9486\n",
            "Epoch 19/20\n",
            "23/23 [==============================] - ETA: 0s - loss: 0.1125 - accuracy: 0.9646\n",
            "Epoch 19: val_accuracy did not improve from 0.98286\n",
            "23/23 [==============================] - 15s 652ms/step - loss: 0.1125 - accuracy: 0.9646 - val_loss: 0.2288 - val_accuracy: 0.9429\n",
            "Epoch 20/20\n",
            "23/23 [==============================] - ETA: 0s - loss: 0.0699 - accuracy: 0.9816\n",
            "Epoch 20: val_accuracy did not improve from 0.98286\n",
            "23/23 [==============================] - 17s 765ms/step - loss: 0.0699 - accuracy: 0.9816 - val_loss: 0.1681 - val_accuracy: 0.9657\n"
          ]
        },
        {
          "output_type": "execute_result",
          "data": {
            "text/plain": [
              "<keras.callbacks.History at 0x7f65d7e937c0>"
            ]
          },
          "metadata": {},
          "execution_count": 22
        }
      ]
    },
    {
      "cell_type": "code",
      "source": [
        "# Train the model\n",
        "model.fit(train_generator,\n",
        "          epochs=50,\n",
        "          validation_data=validation_generator,\n",
        "          callbacks=[checkpoint])"
      ],
      "metadata": {
        "colab": {
          "base_uri": "https://localhost:8080/"
        },
        "id": "7o92rXjAIpru",
        "outputId": "14ac6467-ca7b-48a1-ef6e-aa5b2e73b9ad"
      },
      "execution_count": 23,
      "outputs": [
        {
          "output_type": "stream",
          "name": "stdout",
          "text": [
            "Epoch 1/50\n",
            "23/23 [==============================] - ETA: 0s - loss: 0.0711 - accuracy: 0.9731\n",
            "Epoch 1: val_accuracy did not improve from 0.98286\n",
            "23/23 [==============================] - 17s 734ms/step - loss: 0.0711 - accuracy: 0.9731 - val_loss: 0.1583 - val_accuracy: 0.9657\n",
            "Epoch 2/50\n",
            "23/23 [==============================] - ETA: 0s - loss: 0.0983 - accuracy: 0.9675\n",
            "Epoch 2: val_accuracy did not improve from 0.98286\n",
            "23/23 [==============================] - 16s 674ms/step - loss: 0.0983 - accuracy: 0.9675 - val_loss: 0.2188 - val_accuracy: 0.9314\n",
            "Epoch 3/50\n",
            "23/23 [==============================] - ETA: 0s - loss: 0.1919 - accuracy: 0.9194\n",
            "Epoch 3: val_accuracy did not improve from 0.98286\n",
            "23/23 [==============================] - 15s 673ms/step - loss: 0.1919 - accuracy: 0.9194 - val_loss: 0.1759 - val_accuracy: 0.9543\n",
            "Epoch 4/50\n",
            "23/23 [==============================] - ETA: 0s - loss: 0.1442 - accuracy: 0.9576\n",
            "Epoch 4: val_accuracy did not improve from 0.98286\n",
            "23/23 [==============================] - 15s 676ms/step - loss: 0.1442 - accuracy: 0.9576 - val_loss: 0.3344 - val_accuracy: 0.9029\n",
            "Epoch 5/50\n",
            "23/23 [==============================] - ETA: 0s - loss: 0.1065 - accuracy: 0.9689\n",
            "Epoch 5: val_accuracy did not improve from 0.98286\n",
            "23/23 [==============================] - 18s 769ms/step - loss: 0.1065 - accuracy: 0.9689 - val_loss: 0.2019 - val_accuracy: 0.9486\n",
            "Epoch 6/50\n",
            "23/23 [==============================] - ETA: 0s - loss: 0.0876 - accuracy: 0.9760\n",
            "Epoch 6: val_accuracy did not improve from 0.98286\n",
            "23/23 [==============================] - 15s 676ms/step - loss: 0.0876 - accuracy: 0.9760 - val_loss: 0.1985 - val_accuracy: 0.9371\n",
            "Epoch 7/50\n",
            "23/23 [==============================] - ETA: 0s - loss: 0.1292 - accuracy: 0.9576\n",
            "Epoch 7: val_accuracy did not improve from 0.98286\n",
            "23/23 [==============================] - 15s 676ms/step - loss: 0.1292 - accuracy: 0.9576 - val_loss: 0.2441 - val_accuracy: 0.9486\n",
            "Epoch 8/50\n",
            "23/23 [==============================] - ETA: 0s - loss: 0.1133 - accuracy: 0.9604\n",
            "Epoch 8: val_accuracy did not improve from 0.98286\n",
            "23/23 [==============================] - 18s 773ms/step - loss: 0.1133 - accuracy: 0.9604 - val_loss: 0.2202 - val_accuracy: 0.9543\n",
            "Epoch 9/50\n",
            "23/23 [==============================] - ETA: 0s - loss: 0.0917 - accuracy: 0.9731\n",
            "Epoch 9: val_accuracy did not improve from 0.98286\n",
            "23/23 [==============================] - 15s 670ms/step - loss: 0.0917 - accuracy: 0.9731 - val_loss: 0.2454 - val_accuracy: 0.9429\n",
            "Epoch 10/50\n",
            "23/23 [==============================] - ETA: 0s - loss: 0.1313 - accuracy: 0.9491\n",
            "Epoch 10: val_accuracy did not improve from 0.98286\n",
            "23/23 [==============================] - 15s 665ms/step - loss: 0.1313 - accuracy: 0.9491 - val_loss: 0.1837 - val_accuracy: 0.9371\n",
            "Epoch 11/50\n",
            "23/23 [==============================] - ETA: 0s - loss: 0.1062 - accuracy: 0.9604\n",
            "Epoch 11: val_accuracy did not improve from 0.98286\n",
            "23/23 [==============================] - 16s 682ms/step - loss: 0.1062 - accuracy: 0.9604 - val_loss: 0.1766 - val_accuracy: 0.9543\n",
            "Epoch 12/50\n",
            "23/23 [==============================] - ETA: 0s - loss: 0.0737 - accuracy: 0.9760\n",
            "Epoch 12: val_accuracy did not improve from 0.98286\n",
            "23/23 [==============================] - 18s 770ms/step - loss: 0.0737 - accuracy: 0.9760 - val_loss: 0.1954 - val_accuracy: 0.9600\n",
            "Epoch 13/50\n",
            "22/23 [===========================>..] - ETA: 0s - loss: 0.0898 - accuracy: 0.9673\n",
            "Epoch 13: val_accuracy did not improve from 0.98286\n",
            "23/23 [==============================] - 17s 723ms/step - loss: 0.0894 - accuracy: 0.9675 - val_loss: 0.1522 - val_accuracy: 0.9543\n",
            "Epoch 14/50\n",
            "23/23 [==============================] - ETA: 0s - loss: 0.1104 - accuracy: 0.9689\n",
            "Epoch 14: val_accuracy did not improve from 0.98286\n",
            "23/23 [==============================] - 15s 676ms/step - loss: 0.1104 - accuracy: 0.9689 - val_loss: 0.2360 - val_accuracy: 0.9429\n",
            "Epoch 15/50\n",
            "23/23 [==============================] - ETA: 0s - loss: 0.0512 - accuracy: 0.9816\n",
            "Epoch 15: val_accuracy did not improve from 0.98286\n",
            "23/23 [==============================] - 18s 770ms/step - loss: 0.0512 - accuracy: 0.9816 - val_loss: 0.1478 - val_accuracy: 0.9543\n",
            "Epoch 16/50\n",
            "23/23 [==============================] - ETA: 0s - loss: 0.0703 - accuracy: 0.9774\n",
            "Epoch 16: val_accuracy did not improve from 0.98286\n",
            "23/23 [==============================] - 15s 661ms/step - loss: 0.0703 - accuracy: 0.9774 - val_loss: 0.2455 - val_accuracy: 0.9257\n",
            "Epoch 17/50\n",
            "23/23 [==============================] - ETA: 0s - loss: 0.0613 - accuracy: 0.9844\n",
            "Epoch 17: val_accuracy did not improve from 0.98286\n",
            "23/23 [==============================] - 16s 691ms/step - loss: 0.0613 - accuracy: 0.9844 - val_loss: 0.1509 - val_accuracy: 0.9600\n",
            "Epoch 18/50\n",
            "23/23 [==============================] - ETA: 0s - loss: 0.0619 - accuracy: 0.9774\n",
            "Epoch 18: val_accuracy did not improve from 0.98286\n",
            "23/23 [==============================] - 15s 661ms/step - loss: 0.0619 - accuracy: 0.9774 - val_loss: 0.2255 - val_accuracy: 0.9714\n",
            "Epoch 19/50\n",
            "23/23 [==============================] - ETA: 0s - loss: 0.0634 - accuracy: 0.9802\n",
            "Epoch 19: val_accuracy did not improve from 0.98286\n",
            "23/23 [==============================] - 15s 671ms/step - loss: 0.0634 - accuracy: 0.9802 - val_loss: 0.2379 - val_accuracy: 0.9714\n",
            "Epoch 20/50\n",
            "23/23 [==============================] - ETA: 0s - loss: 0.0415 - accuracy: 0.9901\n",
            "Epoch 20: val_accuracy did not improve from 0.98286\n",
            "23/23 [==============================] - 15s 665ms/step - loss: 0.0415 - accuracy: 0.9901 - val_loss: 0.2322 - val_accuracy: 0.9714\n",
            "Epoch 21/50\n",
            "23/23 [==============================] - ETA: 0s - loss: 0.0570 - accuracy: 0.9859\n",
            "Epoch 21: val_accuracy did not improve from 0.98286\n",
            "23/23 [==============================] - 15s 667ms/step - loss: 0.0570 - accuracy: 0.9859 - val_loss: 0.1932 - val_accuracy: 0.9657\n",
            "Epoch 22/50\n",
            "23/23 [==============================] - ETA: 0s - loss: 0.1055 - accuracy: 0.9661\n",
            "Epoch 22: val_accuracy did not improve from 0.98286\n",
            "23/23 [==============================] - 15s 664ms/step - loss: 0.1055 - accuracy: 0.9661 - val_loss: 0.2293 - val_accuracy: 0.9371\n",
            "Epoch 23/50\n",
            "22/23 [===========================>..] - ETA: 0s - loss: 0.0887 - accuracy: 0.9730\n",
            "Epoch 23: val_accuracy did not improve from 0.98286\n",
            "23/23 [==============================] - 15s 672ms/step - loss: 0.0893 - accuracy: 0.9717 - val_loss: 0.3733 - val_accuracy: 0.8971\n",
            "Epoch 24/50\n",
            "23/23 [==============================] - ETA: 0s - loss: 0.2083 - accuracy: 0.9307\n",
            "Epoch 24: val_accuracy did not improve from 0.98286\n",
            "23/23 [==============================] - 16s 682ms/step - loss: 0.2083 - accuracy: 0.9307 - val_loss: 0.3062 - val_accuracy: 0.9200\n",
            "Epoch 25/50\n",
            "23/23 [==============================] - ETA: 0s - loss: 0.1216 - accuracy: 0.9618\n",
            "Epoch 25: val_accuracy did not improve from 0.98286\n",
            "23/23 [==============================] - 15s 665ms/step - loss: 0.1216 - accuracy: 0.9618 - val_loss: 0.2297 - val_accuracy: 0.9429\n",
            "Epoch 26/50\n",
            "23/23 [==============================] - ETA: 0s - loss: 0.0783 - accuracy: 0.9745\n",
            "Epoch 26: val_accuracy did not improve from 0.98286\n",
            "23/23 [==============================] - 16s 715ms/step - loss: 0.0783 - accuracy: 0.9745 - val_loss: 0.2333 - val_accuracy: 0.9371\n",
            "Epoch 27/50\n",
            "23/23 [==============================] - ETA: 0s - loss: 0.1425 - accuracy: 0.9547\n",
            "Epoch 27: val_accuracy did not improve from 0.98286\n",
            "23/23 [==============================] - 18s 773ms/step - loss: 0.1425 - accuracy: 0.9547 - val_loss: 0.6532 - val_accuracy: 0.8286\n",
            "Epoch 28/50\n",
            "23/23 [==============================] - ETA: 0s - loss: 0.1015 - accuracy: 0.9562\n",
            "Epoch 28: val_accuracy did not improve from 0.98286\n",
            "23/23 [==============================] - 15s 666ms/step - loss: 0.1015 - accuracy: 0.9562 - val_loss: 0.2315 - val_accuracy: 0.9600\n",
            "Epoch 29/50\n",
            "23/23 [==============================] - ETA: 0s - loss: 0.0788 - accuracy: 0.9717\n",
            "Epoch 29: val_accuracy did not improve from 0.98286\n",
            "23/23 [==============================] - 16s 682ms/step - loss: 0.0788 - accuracy: 0.9717 - val_loss: 0.2359 - val_accuracy: 0.9657\n",
            "Epoch 30/50\n",
            "23/23 [==============================] - ETA: 0s - loss: 0.0539 - accuracy: 0.9830\n",
            "Epoch 30: val_accuracy did not improve from 0.98286\n",
            "23/23 [==============================] - 16s 682ms/step - loss: 0.0539 - accuracy: 0.9830 - val_loss: 0.2320 - val_accuracy: 0.9486\n",
            "Epoch 31/50\n",
            "23/23 [==============================] - ETA: 0s - loss: 0.0504 - accuracy: 0.9859\n",
            "Epoch 31: val_accuracy did not improve from 0.98286\n",
            "23/23 [==============================] - 15s 673ms/step - loss: 0.0504 - accuracy: 0.9859 - val_loss: 0.2780 - val_accuracy: 0.9486\n",
            "Epoch 32/50\n",
            "23/23 [==============================] - ETA: 0s - loss: 0.0721 - accuracy: 0.9717\n",
            "Epoch 32: val_accuracy did not improve from 0.98286\n",
            "23/23 [==============================] - 15s 670ms/step - loss: 0.0721 - accuracy: 0.9717 - val_loss: 0.4182 - val_accuracy: 0.9257\n",
            "Epoch 33/50\n",
            "23/23 [==============================] - ETA: 0s - loss: 0.0880 - accuracy: 0.9745\n",
            "Epoch 33: val_accuracy did not improve from 0.98286\n",
            "23/23 [==============================] - 16s 683ms/step - loss: 0.0880 - accuracy: 0.9745 - val_loss: 0.2406 - val_accuracy: 0.9600\n",
            "Epoch 34/50\n",
            "23/23 [==============================] - ETA: 0s - loss: 0.0941 - accuracy: 0.9689\n",
            "Epoch 34: val_accuracy did not improve from 0.98286\n",
            "23/23 [==============================] - 15s 673ms/step - loss: 0.0941 - accuracy: 0.9689 - val_loss: 0.3607 - val_accuracy: 0.9314\n",
            "Epoch 35/50\n",
            "23/23 [==============================] - ETA: 0s - loss: 0.0656 - accuracy: 0.9802\n",
            "Epoch 35: val_accuracy did not improve from 0.98286\n",
            "23/23 [==============================] - 16s 672ms/step - loss: 0.0656 - accuracy: 0.9802 - val_loss: 0.2577 - val_accuracy: 0.9657\n",
            "Epoch 36/50\n",
            "23/23 [==============================] - ETA: 0s - loss: 0.0700 - accuracy: 0.9788\n",
            "Epoch 36: val_accuracy did not improve from 0.98286\n",
            "23/23 [==============================] - 16s 678ms/step - loss: 0.0700 - accuracy: 0.9788 - val_loss: 0.2673 - val_accuracy: 0.9486\n",
            "Epoch 37/50\n",
            "23/23 [==============================] - ETA: 0s - loss: 0.0639 - accuracy: 0.9802\n",
            "Epoch 37: val_accuracy did not improve from 0.98286\n",
            "23/23 [==============================] - 15s 659ms/step - loss: 0.0639 - accuracy: 0.9802 - val_loss: 0.1778 - val_accuracy: 0.9657\n",
            "Epoch 38/50\n",
            "23/23 [==============================] - ETA: 0s - loss: 0.0723 - accuracy: 0.9731\n",
            "Epoch 38: val_accuracy did not improve from 0.98286\n",
            "23/23 [==============================] - 15s 665ms/step - loss: 0.0723 - accuracy: 0.9731 - val_loss: 0.2247 - val_accuracy: 0.9714\n",
            "Epoch 39/50\n",
            "23/23 [==============================] - ETA: 0s - loss: 0.0416 - accuracy: 0.9887\n",
            "Epoch 39: val_accuracy did not improve from 0.98286\n",
            "23/23 [==============================] - 15s 666ms/step - loss: 0.0416 - accuracy: 0.9887 - val_loss: 0.2524 - val_accuracy: 0.9429\n",
            "Epoch 40/50\n",
            "23/23 [==============================] - ETA: 0s - loss: 0.0531 - accuracy: 0.9816\n",
            "Epoch 40: val_accuracy did not improve from 0.98286\n",
            "23/23 [==============================] - 18s 773ms/step - loss: 0.0531 - accuracy: 0.9816 - val_loss: 0.1932 - val_accuracy: 0.9600\n",
            "Epoch 41/50\n",
            "23/23 [==============================] - ETA: 0s - loss: 0.0623 - accuracy: 0.9788\n",
            "Epoch 41: val_accuracy did not improve from 0.98286\n",
            "23/23 [==============================] - 17s 723ms/step - loss: 0.0623 - accuracy: 0.9788 - val_loss: 0.2035 - val_accuracy: 0.9657\n",
            "Epoch 42/50\n",
            "23/23 [==============================] - ETA: 0s - loss: 0.0601 - accuracy: 0.9788\n",
            "Epoch 42: val_accuracy did not improve from 0.98286\n",
            "23/23 [==============================] - 15s 664ms/step - loss: 0.0601 - accuracy: 0.9788 - val_loss: 0.2403 - val_accuracy: 0.9657\n",
            "Epoch 43/50\n",
            "23/23 [==============================] - ETA: 0s - loss: 0.0608 - accuracy: 0.9844\n",
            "Epoch 43: val_accuracy did not improve from 0.98286\n",
            "23/23 [==============================] - 15s 660ms/step - loss: 0.0608 - accuracy: 0.9844 - val_loss: 0.1882 - val_accuracy: 0.9657\n",
            "Epoch 44/50\n",
            "23/23 [==============================] - ETA: 0s - loss: 0.0377 - accuracy: 0.9887\n",
            "Epoch 44: val_accuracy did not improve from 0.98286\n",
            "23/23 [==============================] - 15s 668ms/step - loss: 0.0377 - accuracy: 0.9887 - val_loss: 0.1951 - val_accuracy: 0.9600\n",
            "Epoch 45/50\n",
            "23/23 [==============================] - ETA: 0s - loss: 0.0441 - accuracy: 0.9830\n",
            "Epoch 45: val_accuracy did not improve from 0.98286\n",
            "23/23 [==============================] - 16s 680ms/step - loss: 0.0441 - accuracy: 0.9830 - val_loss: 0.2101 - val_accuracy: 0.9657\n",
            "Epoch 46/50\n",
            "23/23 [==============================] - ETA: 0s - loss: 0.0392 - accuracy: 0.9887\n",
            "Epoch 46: val_accuracy did not improve from 0.98286\n",
            "23/23 [==============================] - 16s 670ms/step - loss: 0.0392 - accuracy: 0.9887 - val_loss: 0.4052 - val_accuracy: 0.9429\n",
            "Epoch 47/50\n",
            "23/23 [==============================] - ETA: 0s - loss: 0.0467 - accuracy: 0.9844\n",
            "Epoch 47: val_accuracy did not improve from 0.98286\n",
            "23/23 [==============================] - 15s 664ms/step - loss: 0.0467 - accuracy: 0.9844 - val_loss: 0.3234 - val_accuracy: 0.9486\n",
            "Epoch 48/50\n",
            "23/23 [==============================] - ETA: 0s - loss: 0.0668 - accuracy: 0.9731\n",
            "Epoch 48: val_accuracy did not improve from 0.98286\n",
            "23/23 [==============================] - 15s 671ms/step - loss: 0.0668 - accuracy: 0.9731 - val_loss: 0.3241 - val_accuracy: 0.9429\n",
            "Epoch 49/50\n",
            "23/23 [==============================] - ETA: 0s - loss: 0.0816 - accuracy: 0.9774\n",
            "Epoch 49: val_accuracy did not improve from 0.98286\n",
            "23/23 [==============================] - 18s 777ms/step - loss: 0.0816 - accuracy: 0.9774 - val_loss: 0.2998 - val_accuracy: 0.9429\n",
            "Epoch 50/50\n",
            "23/23 [==============================] - ETA: 0s - loss: 0.0484 - accuracy: 0.9873\n",
            "Epoch 50: val_accuracy did not improve from 0.98286\n",
            "23/23 [==============================] - 15s 666ms/step - loss: 0.0484 - accuracy: 0.9873 - val_loss: 0.2791 - val_accuracy: 0.9543\n"
          ]
        },
        {
          "output_type": "execute_result",
          "data": {
            "text/plain": [
              "<keras.callbacks.History at 0x7f6552c835e0>"
            ]
          },
          "metadata": {},
          "execution_count": 23
        }
      ]
    },
    {
      "cell_type": "code",
      "source": [
        "# Train the model\n",
        "model.fit(train_generator,\n",
        "          epochs=50,\n",
        "          validation_data=validation_generator,\n",
        "          callbacks=[checkpoint])"
      ],
      "metadata": {
        "colab": {
          "base_uri": "https://localhost:8080/"
        },
        "id": "KUGrB2OOW7PQ",
        "outputId": "faa6bbf1-96f0-47e1-b2b8-f06897761677"
      },
      "execution_count": 24,
      "outputs": [
        {
          "output_type": "stream",
          "name": "stdout",
          "text": [
            "Epoch 1/50\n",
            "23/23 [==============================] - ETA: 0s - loss: 0.0349 - accuracy: 0.9859\n",
            "Epoch 1: val_accuracy did not improve from 0.98286\n",
            "23/23 [==============================] - 16s 705ms/step - loss: 0.0349 - accuracy: 0.9859 - val_loss: 0.2944 - val_accuracy: 0.9543\n",
            "Epoch 2/50\n",
            "22/23 [===========================>..] - ETA: 0s - loss: 0.0470 - accuracy: 0.9844\n",
            "Epoch 2: val_accuracy did not improve from 0.98286\n",
            "23/23 [==============================] - 16s 680ms/step - loss: 0.0469 - accuracy: 0.9844 - val_loss: 0.3043 - val_accuracy: 0.9543\n",
            "Epoch 3/50\n",
            "23/23 [==============================] - ETA: 0s - loss: 0.0376 - accuracy: 0.9873\n",
            "Epoch 3: val_accuracy did not improve from 0.98286\n",
            "23/23 [==============================] - 17s 745ms/step - loss: 0.0376 - accuracy: 0.9873 - val_loss: 0.2336 - val_accuracy: 0.9657\n",
            "Epoch 4/50\n",
            "23/23 [==============================] - ETA: 0s - loss: 0.0530 - accuracy: 0.9802\n",
            "Epoch 4: val_accuracy did not improve from 0.98286\n",
            "23/23 [==============================] - 15s 652ms/step - loss: 0.0530 - accuracy: 0.9802 - val_loss: 0.2405 - val_accuracy: 0.9714\n",
            "Epoch 5/50\n",
            "23/23 [==============================] - ETA: 0s - loss: 0.0879 - accuracy: 0.9774\n",
            "Epoch 5: val_accuracy did not improve from 0.98286\n",
            "23/23 [==============================] - 17s 757ms/step - loss: 0.0879 - accuracy: 0.9774 - val_loss: 0.4389 - val_accuracy: 0.9029\n",
            "Epoch 6/50\n",
            "23/23 [==============================] - ETA: 0s - loss: 0.0992 - accuracy: 0.9661\n",
            "Epoch 6: val_accuracy did not improve from 0.98286\n",
            "23/23 [==============================] - 15s 647ms/step - loss: 0.0992 - accuracy: 0.9661 - val_loss: 0.2829 - val_accuracy: 0.9600\n",
            "Epoch 7/50\n",
            "23/23 [==============================] - ETA: 0s - loss: 0.0797 - accuracy: 0.9703\n",
            "Epoch 7: val_accuracy did not improve from 0.98286\n",
            "23/23 [==============================] - 15s 648ms/step - loss: 0.0797 - accuracy: 0.9703 - val_loss: 0.2758 - val_accuracy: 0.9371\n",
            "Epoch 8/50\n",
            "23/23 [==============================] - ETA: 0s - loss: 0.0530 - accuracy: 0.9830\n",
            "Epoch 8: val_accuracy did not improve from 0.98286\n",
            "23/23 [==============================] - 17s 742ms/step - loss: 0.0530 - accuracy: 0.9830 - val_loss: 0.2638 - val_accuracy: 0.9429\n",
            "Epoch 9/50\n",
            "22/23 [===========================>..] - ETA: 0s - loss: 0.0350 - accuracy: 0.9901\n",
            "Epoch 9: val_accuracy did not improve from 0.98286\n",
            "23/23 [==============================] - 16s 701ms/step - loss: 0.0349 - accuracy: 0.9901 - val_loss: 0.2884 - val_accuracy: 0.9543\n",
            "Epoch 10/50\n",
            "23/23 [==============================] - ETA: 0s - loss: 0.0445 - accuracy: 0.9830\n",
            "Epoch 10: val_accuracy did not improve from 0.98286\n",
            "23/23 [==============================] - 15s 650ms/step - loss: 0.0445 - accuracy: 0.9830 - val_loss: 0.3459 - val_accuracy: 0.9371\n",
            "Epoch 11/50\n",
            "23/23 [==============================] - ETA: 0s - loss: 0.0383 - accuracy: 0.9887\n",
            "Epoch 11: val_accuracy did not improve from 0.98286\n",
            "23/23 [==============================] - 17s 745ms/step - loss: 0.0383 - accuracy: 0.9887 - val_loss: 0.3132 - val_accuracy: 0.9429\n",
            "Epoch 12/50\n",
            "23/23 [==============================] - ETA: 0s - loss: 0.1066 - accuracy: 0.9646\n",
            "Epoch 12: val_accuracy did not improve from 0.98286\n",
            "23/23 [==============================] - 15s 676ms/step - loss: 0.1066 - accuracy: 0.9646 - val_loss: 0.2960 - val_accuracy: 0.9714\n",
            "Epoch 13/50\n",
            "23/23 [==============================] - ETA: 0s - loss: 0.0559 - accuracy: 0.9788\n",
            "Epoch 13: val_accuracy did not improve from 0.98286\n",
            "23/23 [==============================] - 15s 662ms/step - loss: 0.0559 - accuracy: 0.9788 - val_loss: 0.3243 - val_accuracy: 0.9371\n",
            "Epoch 14/50\n",
            "23/23 [==============================] - ETA: 0s - loss: 0.0351 - accuracy: 0.9859\n",
            "Epoch 14: val_accuracy did not improve from 0.98286\n",
            "23/23 [==============================] - 15s 647ms/step - loss: 0.0351 - accuracy: 0.9859 - val_loss: 0.2808 - val_accuracy: 0.9657\n",
            "Epoch 15/50\n",
            "23/23 [==============================] - ETA: 0s - loss: 0.0452 - accuracy: 0.9830\n",
            "Epoch 15: val_accuracy did not improve from 0.98286\n",
            "23/23 [==============================] - 15s 650ms/step - loss: 0.0452 - accuracy: 0.9830 - val_loss: 0.2317 - val_accuracy: 0.9486\n",
            "Epoch 16/50\n",
            "23/23 [==============================] - ETA: 0s - loss: 0.1310 - accuracy: 0.9562\n",
            "Epoch 16: val_accuracy did not improve from 0.98286\n",
            "23/23 [==============================] - 15s 665ms/step - loss: 0.1310 - accuracy: 0.9562 - val_loss: 0.2944 - val_accuracy: 0.9429\n",
            "Epoch 17/50\n",
            "23/23 [==============================] - ETA: 0s - loss: 0.0513 - accuracy: 0.9816\n",
            "Epoch 17: val_accuracy did not improve from 0.98286\n",
            "23/23 [==============================] - 15s 684ms/step - loss: 0.0513 - accuracy: 0.9816 - val_loss: 0.3352 - val_accuracy: 0.9143\n",
            "Epoch 18/50\n",
            "23/23 [==============================] - ETA: 0s - loss: 0.1766 - accuracy: 0.9406\n",
            "Epoch 18: val_accuracy did not improve from 0.98286\n",
            "23/23 [==============================] - 16s 692ms/step - loss: 0.1766 - accuracy: 0.9406 - val_loss: 0.3393 - val_accuracy: 0.9257\n",
            "Epoch 19/50\n",
            "23/23 [==============================] - ETA: 0s - loss: 0.0614 - accuracy: 0.9788\n",
            "Epoch 19: val_accuracy did not improve from 0.98286\n",
            "23/23 [==============================] - 17s 752ms/step - loss: 0.0614 - accuracy: 0.9788 - val_loss: 0.2328 - val_accuracy: 0.9657\n",
            "Epoch 20/50\n",
            "23/23 [==============================] - ETA: 0s - loss: 0.0687 - accuracy: 0.9802\n",
            "Epoch 20: val_accuracy did not improve from 0.98286\n",
            "23/23 [==============================] - 15s 647ms/step - loss: 0.0687 - accuracy: 0.9802 - val_loss: 0.2427 - val_accuracy: 0.9600\n",
            "Epoch 21/50\n",
            "23/23 [==============================] - ETA: 0s - loss: 0.0714 - accuracy: 0.9760\n",
            "Epoch 21: val_accuracy did not improve from 0.98286\n",
            "23/23 [==============================] - 17s 727ms/step - loss: 0.0714 - accuracy: 0.9760 - val_loss: 0.2040 - val_accuracy: 0.9543\n",
            "Epoch 22/50\n",
            "22/23 [===========================>..] - ETA: 0s - loss: 0.0877 - accuracy: 0.9673\n",
            "Epoch 22: val_accuracy did not improve from 0.98286\n",
            "23/23 [==============================] - 16s 712ms/step - loss: 0.0875 - accuracy: 0.9675 - val_loss: 0.3401 - val_accuracy: 0.9314\n",
            "Epoch 23/50\n",
            "23/23 [==============================] - ETA: 0s - loss: 0.0794 - accuracy: 0.9689\n",
            "Epoch 23: val_accuracy did not improve from 0.98286\n",
            "23/23 [==============================] - 15s 657ms/step - loss: 0.0794 - accuracy: 0.9689 - val_loss: 0.3125 - val_accuracy: 0.9371\n",
            "Epoch 24/50\n",
            "23/23 [==============================] - ETA: 0s - loss: 0.0421 - accuracy: 0.9859\n",
            "Epoch 24: val_accuracy did not improve from 0.98286\n",
            "23/23 [==============================] - 15s 659ms/step - loss: 0.0421 - accuracy: 0.9859 - val_loss: 0.3477 - val_accuracy: 0.9543\n",
            "Epoch 25/50\n",
            "23/23 [==============================] - ETA: 0s - loss: 0.1099 - accuracy: 0.9675\n",
            "Epoch 25: val_accuracy did not improve from 0.98286\n",
            "23/23 [==============================] - 15s 650ms/step - loss: 0.1099 - accuracy: 0.9675 - val_loss: 0.3661 - val_accuracy: 0.9086\n",
            "Epoch 26/50\n",
            "23/23 [==============================] - ETA: 0s - loss: 0.0759 - accuracy: 0.9816\n",
            "Epoch 26: val_accuracy did not improve from 0.98286\n",
            "23/23 [==============================] - 15s 661ms/step - loss: 0.0759 - accuracy: 0.9816 - val_loss: 0.2949 - val_accuracy: 0.9257\n",
            "Epoch 27/50\n",
            "23/23 [==============================] - ETA: 0s - loss: 0.0621 - accuracy: 0.9816\n",
            "Epoch 27: val_accuracy did not improve from 0.98286\n",
            "23/23 [==============================] - 15s 649ms/step - loss: 0.0621 - accuracy: 0.9816 - val_loss: 0.2539 - val_accuracy: 0.9200\n",
            "Epoch 28/50\n",
            "22/23 [===========================>..] - ETA: 0s - loss: 0.0618 - accuracy: 0.9815\n",
            "Epoch 28: val_accuracy did not improve from 0.98286\n",
            "23/23 [==============================] - 17s 746ms/step - loss: 0.0615 - accuracy: 0.9816 - val_loss: 0.2883 - val_accuracy: 0.9314\n",
            "Epoch 29/50\n",
            "23/23 [==============================] - ETA: 0s - loss: 0.0714 - accuracy: 0.9774\n",
            "Epoch 29: val_accuracy did not improve from 0.98286\n",
            "23/23 [==============================] - 15s 650ms/step - loss: 0.0714 - accuracy: 0.9774 - val_loss: 0.4523 - val_accuracy: 0.8800\n",
            "Epoch 30/50\n",
            "23/23 [==============================] - ETA: 0s - loss: 0.0520 - accuracy: 0.9802\n",
            "Epoch 30: val_accuracy did not improve from 0.98286\n",
            "23/23 [==============================] - 15s 652ms/step - loss: 0.0520 - accuracy: 0.9802 - val_loss: 0.2902 - val_accuracy: 0.9543\n",
            "Epoch 31/50\n",
            "23/23 [==============================] - ETA: 0s - loss: 0.0514 - accuracy: 0.9788\n",
            "Epoch 31: val_accuracy did not improve from 0.98286\n",
            "23/23 [==============================] - 15s 653ms/step - loss: 0.0514 - accuracy: 0.9788 - val_loss: 0.3056 - val_accuracy: 0.9429\n",
            "Epoch 32/50\n",
            "23/23 [==============================] - ETA: 0s - loss: 0.0735 - accuracy: 0.9774\n",
            "Epoch 32: val_accuracy did not improve from 0.98286\n",
            "23/23 [==============================] - 15s 650ms/step - loss: 0.0735 - accuracy: 0.9774 - val_loss: 0.3274 - val_accuracy: 0.9543\n",
            "Epoch 33/50\n",
            "22/23 [===========================>..] - ETA: 0s - loss: 0.0489 - accuracy: 0.9787\n",
            "Epoch 33: val_accuracy did not improve from 0.98286\n",
            "23/23 [==============================] - 15s 651ms/step - loss: 0.0488 - accuracy: 0.9788 - val_loss: 0.1746 - val_accuracy: 0.9657\n",
            "Epoch 34/50\n",
            "23/23 [==============================] - ETA: 0s - loss: 0.0484 - accuracy: 0.9873\n",
            "Epoch 34: val_accuracy did not improve from 0.98286\n",
            "23/23 [==============================] - 15s 648ms/step - loss: 0.0484 - accuracy: 0.9873 - val_loss: 0.2683 - val_accuracy: 0.9657\n",
            "Epoch 35/50\n",
            "23/23 [==============================] - ETA: 0s - loss: 0.0507 - accuracy: 0.9816\n",
            "Epoch 35: val_accuracy did not improve from 0.98286\n",
            "23/23 [==============================] - 15s 652ms/step - loss: 0.0507 - accuracy: 0.9816 - val_loss: 0.5310 - val_accuracy: 0.8800\n",
            "Epoch 36/50\n",
            "23/23 [==============================] - ETA: 0s - loss: 0.0775 - accuracy: 0.9731\n",
            "Epoch 36: val_accuracy did not improve from 0.98286\n",
            "23/23 [==============================] - 16s 700ms/step - loss: 0.0775 - accuracy: 0.9731 - val_loss: 0.2869 - val_accuracy: 0.9714\n",
            "Epoch 37/50\n",
            "23/23 [==============================] - ETA: 0s - loss: 0.0953 - accuracy: 0.9689\n",
            "Epoch 37: val_accuracy did not improve from 0.98286\n",
            "23/23 [==============================] - 15s 652ms/step - loss: 0.0953 - accuracy: 0.9689 - val_loss: 0.3204 - val_accuracy: 0.9657\n",
            "Epoch 38/50\n",
            "23/23 [==============================] - ETA: 0s - loss: 0.1048 - accuracy: 0.9731\n",
            "Epoch 38: val_accuracy did not improve from 0.98286\n",
            "23/23 [==============================] - 15s 676ms/step - loss: 0.1048 - accuracy: 0.9731 - val_loss: 0.3922 - val_accuracy: 0.9200\n",
            "Epoch 39/50\n",
            "23/23 [==============================] - ETA: 0s - loss: 0.1023 - accuracy: 0.9661\n",
            "Epoch 39: val_accuracy did not improve from 0.98286\n",
            "23/23 [==============================] - 15s 651ms/step - loss: 0.1023 - accuracy: 0.9661 - val_loss: 0.2974 - val_accuracy: 0.9371\n",
            "Epoch 40/50\n",
            "23/23 [==============================] - ETA: 0s - loss: 0.0797 - accuracy: 0.9760\n",
            "Epoch 40: val_accuracy did not improve from 0.98286\n",
            "23/23 [==============================] - 17s 781ms/step - loss: 0.0797 - accuracy: 0.9760 - val_loss: 0.3553 - val_accuracy: 0.9371\n",
            "Epoch 41/50\n",
            "23/23 [==============================] - ETA: 0s - loss: 0.0974 - accuracy: 0.9675\n",
            "Epoch 41: val_accuracy did not improve from 0.98286\n",
            "23/23 [==============================] - 15s 644ms/step - loss: 0.0974 - accuracy: 0.9675 - val_loss: 0.2138 - val_accuracy: 0.9486\n",
            "Epoch 42/50\n",
            "23/23 [==============================] - ETA: 0s - loss: 0.0557 - accuracy: 0.9830\n",
            "Epoch 42: val_accuracy did not improve from 0.98286\n",
            "23/23 [==============================] - 15s 656ms/step - loss: 0.0557 - accuracy: 0.9830 - val_loss: 0.2914 - val_accuracy: 0.9371\n",
            "Epoch 43/50\n",
            "23/23 [==============================] - ETA: 0s - loss: 0.0622 - accuracy: 0.9745\n",
            "Epoch 43: val_accuracy did not improve from 0.98286\n",
            "23/23 [==============================] - 17s 755ms/step - loss: 0.0622 - accuracy: 0.9745 - val_loss: 0.3043 - val_accuracy: 0.9257\n",
            "Epoch 44/50\n",
            "23/23 [==============================] - ETA: 0s - loss: 0.0278 - accuracy: 0.9915\n",
            "Epoch 44: val_accuracy did not improve from 0.98286\n",
            "23/23 [==============================] - 15s 653ms/step - loss: 0.0278 - accuracy: 0.9915 - val_loss: 0.3088 - val_accuracy: 0.9543\n",
            "Epoch 45/50\n",
            "23/23 [==============================] - ETA: 0s - loss: 0.0292 - accuracy: 0.9887\n",
            "Epoch 45: val_accuracy did not improve from 0.98286\n",
            "23/23 [==============================] - 15s 658ms/step - loss: 0.0292 - accuracy: 0.9887 - val_loss: 0.1792 - val_accuracy: 0.9657\n",
            "Epoch 46/50\n",
            "23/23 [==============================] - ETA: 0s - loss: 0.0347 - accuracy: 0.9873\n",
            "Epoch 46: val_accuracy did not improve from 0.98286\n",
            "23/23 [==============================] - 15s 653ms/step - loss: 0.0347 - accuracy: 0.9873 - val_loss: 0.2393 - val_accuracy: 0.9714\n",
            "Epoch 47/50\n",
            "23/23 [==============================] - ETA: 0s - loss: 0.0296 - accuracy: 0.9915\n",
            "Epoch 47: val_accuracy did not improve from 0.98286\n",
            "23/23 [==============================] - 15s 657ms/step - loss: 0.0296 - accuracy: 0.9915 - val_loss: 0.2271 - val_accuracy: 0.9600\n",
            "Epoch 48/50\n",
            "23/23 [==============================] - ETA: 0s - loss: 0.0341 - accuracy: 0.9901\n",
            "Epoch 48: val_accuracy did not improve from 0.98286\n",
            "23/23 [==============================] - 15s 661ms/step - loss: 0.0341 - accuracy: 0.9901 - val_loss: 0.2405 - val_accuracy: 0.9657\n",
            "Epoch 49/50\n",
            "23/23 [==============================] - ETA: 0s - loss: 0.0447 - accuracy: 0.9830\n",
            "Epoch 49: val_accuracy did not improve from 0.98286\n",
            "23/23 [==============================] - 15s 646ms/step - loss: 0.0447 - accuracy: 0.9830 - val_loss: 0.2348 - val_accuracy: 0.9714\n",
            "Epoch 50/50\n",
            "23/23 [==============================] - ETA: 0s - loss: 0.0354 - accuracy: 0.9887\n",
            "Epoch 50: val_accuracy did not improve from 0.98286\n",
            "23/23 [==============================] - 16s 681ms/step - loss: 0.0354 - accuracy: 0.9887 - val_loss: 0.3126 - val_accuracy: 0.9600\n"
          ]
        },
        {
          "output_type": "execute_result",
          "data": {
            "text/plain": [
              "<keras.callbacks.History at 0x7f6552bc1960>"
            ]
          },
          "metadata": {},
          "execution_count": 24
        }
      ]
    },
    {
      "cell_type": "code",
      "source": [
        "# Load the model\n",
        "model = load_model(model_path)"
      ],
      "metadata": {
        "id": "xf6GBxUUbBsC"
      },
      "execution_count": 25,
      "outputs": []
    },
    {
      "cell_type": "code",
      "source": [
        "# Load a random image (replace 'path_to_random_image' with the actual path to the image)\n",
        "img = load_img('/content/crop4.jpg', target_size=img_size)"
      ],
      "metadata": {
        "id": "tJADBIm7bBud"
      },
      "execution_count": 86,
      "outputs": []
    },
    {
      "cell_type": "code",
      "source": [
        "# Convert the image to a numpy array\n",
        "img = img_to_array(img)\n",
        "\n",
        "# Expand the dimensions of the image\n",
        "img = np.expand_dims(img, axis=0)\n",
        "\n",
        "# Preprocess the image\n",
        "img = preprocess_input(img)"
      ],
      "metadata": {
        "id": "lM-tUPMubBw1"
      },
      "execution_count": 87,
      "outputs": []
    },
    {
      "cell_type": "code",
      "source": [
        "# Predict the class of the image\n",
        "preds = model.predict(img)"
      ],
      "metadata": {
        "colab": {
          "base_uri": "https://localhost:8080/"
        },
        "id": "Visglltsb2wa",
        "outputId": "571c0e23-e6fd-4b9a-ee29-1783ecd2e29a"
      },
      "execution_count": 88,
      "outputs": [
        {
          "output_type": "stream",
          "name": "stdout",
          "text": [
            "1/1 [==============================] - 0s 25ms/step\n"
          ]
        }
      ]
    },
    {
      "cell_type": "code",
      "source": [
        "# Get the class index\n",
        "class_idx = np.argmax(preds[0])\n",
        "\n",
        "# Get the class label\n",
        "class_label = list(train_generator.class_indices.keys())[list(train_generator.class_indices.values()).index(class_idx)]"
      ],
      "metadata": {
        "id": "z4b6Gp--dnsm"
      },
      "execution_count": 89,
      "outputs": []
    },
    {
      "cell_type": "code",
      "source": [
        "# Print the predicted class\n",
        "print('Predicted:', class_label)"
      ],
      "metadata": {
        "colab": {
          "base_uri": "https://localhost:8080/"
        },
        "id": "C6oRgFQVb2z8",
        "outputId": "758a330e-10b1-4323-f648-5298b33b0f21"
      },
      "execution_count": 90,
      "outputs": [
        {
          "output_type": "stream",
          "name": "stdout",
          "text": [
            "Predicted: cccd_new\n"
          ]
        }
      ]
    }
  ]
}