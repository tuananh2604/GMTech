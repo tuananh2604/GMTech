{
 "cells": [
  {
   "cell_type": "code",
   "execution_count": 3,
   "metadata": {},
   "outputs": [
    {
     "name": "stdout",
     "output_type": "stream",
     "text": [
      "Collecting detecto\n",
      "  Using cached detecto-1.2.2-py3-none-any.whl (25 kB)\n",
      "Requirement already satisfied: torchvision in c:\\users\\caotu\\anaconda3\\lib\\site-packages (from detecto) (0.12.0)\n",
      "Requirement already satisfied: matplotlib in c:\\users\\caotu\\anaconda3\\lib\\site-packages (from detecto) (3.5.2)\n",
      "Requirement already satisfied: torch in c:\\users\\caotu\\anaconda3\\lib\\site-packages (from detecto) (1.11.0)\n",
      "Requirement already satisfied: pandas in c:\\users\\caotu\\anaconda3\\lib\\site-packages (from detecto) (1.4.4)\n",
      "Collecting opencv-python\n",
      "  Downloading opencv_python-4.7.0.72-cp37-abi3-win_amd64.whl (38.2 MB)\n",
      "     ---------------------------------------- 38.2/38.2 MB 8.8 MB/s eta 0:00:00\n",
      "Requirement already satisfied: tqdm in c:\\users\\caotu\\anaconda3\\lib\\site-packages (from detecto) (4.64.1)\n",
      "Requirement already satisfied: numpy>=1.17 in c:\\users\\caotu\\anaconda3\\lib\\site-packages (from matplotlib->detecto) (1.21.5)\n",
      "Requirement already satisfied: packaging>=20.0 in c:\\users\\caotu\\anaconda3\\lib\\site-packages (from matplotlib->detecto) (21.3)\n",
      "Requirement already satisfied: pillow>=6.2.0 in c:\\users\\caotu\\anaconda3\\lib\\site-packages (from matplotlib->detecto) (9.2.0)\n",
      "Requirement already satisfied: cycler>=0.10 in c:\\users\\caotu\\anaconda3\\lib\\site-packages (from matplotlib->detecto) (0.11.0)\n",
      "Requirement already satisfied: pyparsing>=2.2.1 in c:\\users\\caotu\\anaconda3\\lib\\site-packages (from matplotlib->detecto) (3.0.9)\n",
      "Requirement already satisfied: kiwisolver>=1.0.1 in c:\\users\\caotu\\anaconda3\\lib\\site-packages (from matplotlib->detecto) (1.4.2)\n",
      "Requirement already satisfied: python-dateutil>=2.7 in c:\\users\\caotu\\anaconda3\\lib\\site-packages (from matplotlib->detecto) (2.8.2)\n",
      "Requirement already satisfied: fonttools>=4.22.0 in c:\\users\\caotu\\anaconda3\\lib\\site-packages (from matplotlib->detecto) (4.25.0)\n",
      "Requirement already satisfied: pytz>=2020.1 in c:\\users\\caotu\\anaconda3\\lib\\site-packages (from pandas->detecto) (2022.1)\n",
      "Requirement already satisfied: typing_extensions in c:\\users\\caotu\\anaconda3\\lib\\site-packages (from torch->detecto) (4.3.0)\n",
      "Requirement already satisfied: requests in c:\\users\\caotu\\anaconda3\\lib\\site-packages (from torchvision->detecto) (2.28.1)\n",
      "Requirement already satisfied: colorama in c:\\users\\caotu\\anaconda3\\lib\\site-packages (from tqdm->detecto) (0.4.5)\n",
      "Requirement already satisfied: six>=1.5 in c:\\users\\caotu\\anaconda3\\lib\\site-packages (from python-dateutil>=2.7->matplotlib->detecto) (1.16.0)\n",
      "Requirement already satisfied: charset-normalizer<3,>=2 in c:\\users\\caotu\\anaconda3\\lib\\site-packages (from requests->torchvision->detecto) (2.0.4)\n",
      "Requirement already satisfied: idna<4,>=2.5 in c:\\users\\caotu\\anaconda3\\lib\\site-packages (from requests->torchvision->detecto) (3.3)\n",
      "Requirement already satisfied: certifi>=2017.4.17 in c:\\users\\caotu\\anaconda3\\lib\\site-packages (from requests->torchvision->detecto) (2022.9.14)\n",
      "Requirement already satisfied: urllib3<1.27,>=1.21.1 in c:\\users\\caotu\\anaconda3\\lib\\site-packages (from requests->torchvision->detecto) (1.26.11)\n",
      "Installing collected packages: opencv-python, detecto\n",
      "Successfully installed detecto-1.2.2 opencv-python-4.7.0.72\n",
      "Note: you may need to restart the kernel to use updated packages.\n"
     ]
    }
   ],
   "source": [
    "pip install detecto"
   ]
  },
  {
   "cell_type": "code",
   "execution_count": 2,
   "metadata": {},
   "outputs": [],
   "source": [
    "from detecto import core, utils, visualize"
   ]
  },
  {
   "cell_type": "code",
   "execution_count": 5,
   "metadata": {},
   "outputs": [],
   "source": [
    "dataset = core.Dataset('C:/Users/caotu/Downloads/train')\n",
    "model = core.Model([\n",
    "    'top_left', 'top_right', 'bottom_left', 'bottom_right'], device = 'cuda'\n",
    ")"
   ]
  },
  {
   "cell_type": "code",
   "execution_count": null,
   "metadata": {},
   "outputs": [],
   "source": [
    "losses = model.fit(dataset, epochs=20, verbose=True, learning_rate=0.001)"
   ]
  },
  {
   "cell_type": "code",
   "execution_count": 4,
   "metadata": {},
   "outputs": [],
   "source": [
    "dataset = core.Dataset('C:/Users/caotu/Downloads/cccd_cmnd')\n",
    "model = core.Model.load('C:/Users/caotu/Downloads/alignment_IDCard/align_weight/training.pth', ['top_left', 'top_right', 'bottom_left', 'bottom_right'])"
   ]
  },
  {
   "cell_type": "code",
   "execution_count": null,
   "metadata": {},
   "outputs": [],
   "source": []
  }
 ],
 "metadata": {
  "kernelspec": {
   "display_name": "Python 3",
   "language": "python",
   "name": "python3"
  },
  "language_info": {
   "codemirror_mode": {
    "name": "ipython",
    "version": 3
   },
   "file_extension": ".py",
   "mimetype": "text/x-python",
   "name": "python",
   "nbconvert_exporter": "python",
   "pygments_lexer": "ipython3",
   "version": "3.9.13"
  },
  "orig_nbformat": 4
 },
 "nbformat": 4,
 "nbformat_minor": 2
}
