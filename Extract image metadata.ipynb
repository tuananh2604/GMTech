{
 "cells": [
  {
   "cell_type": "code",
   "execution_count": 1,
   "metadata": {},
   "outputs": [],
   "source": [
    "import pandas as pd\n",
    "import numpy as np\n",
    "import seaborn as sns\n",
    "from PIL import Image\n",
    "import requests\n",
    "from io import BytesIO\n",
    "import requests"
   ]
  },
  {
   "cell_type": "code",
   "execution_count": null,
   "metadata": {},
   "outputs": [],
   "source": [
    "data = pd.read_excel(\"crop20.xlsx\")\n",
    "data.head(999999)"
   ]
  },
  {
   "cell_type": "code",
   "execution_count": null,
   "metadata": {},
   "outputs": [],
   "source": [
    "df = data[66000:67000]\n",
    "df.head(999999)"
   ]
  },
  {
   "cell_type": "code",
   "execution_count": 4,
   "metadata": {},
   "outputs": [],
   "source": [
    "def get_image_size(image_url):\n",
    "    response = requests.get(image_url)\n",
    "    image = Image.open(BytesIO(response.content))\n",
    "    return f\"{image.width}*{image.height}\""
   ]
  },
  {
   "cell_type": "code",
   "execution_count": 5,
   "metadata": {},
   "outputs": [
    {
     "name": "stderr",
     "output_type": "stream",
     "text": [
      "C:\\Users\\caotu\\AppData\\Local\\Temp\\ipykernel_1352\\3471729163.py:2: SettingWithCopyWarning: \n",
      "A value is trying to be set on a copy of a slice from a DataFrame.\n",
      "Try using .loc[row_indexer,col_indexer] = value instead\n",
      "\n",
      "See the caveats in the documentation: https://pandas.pydata.org/pandas-docs/stable/user_guide/indexing.html#returning-a-view-versus-a-copy\n",
      "  df[\"back_personal_id_size\"] = df[\"back_personal_id_url\"].apply(get_image_size)\n"
     ]
    }
   ],
   "source": [
    "# Add the size information for each image to the DataFrame\n",
    "df[\"back_personal_id_size\"] = df[\"back_personal_id_url\"].apply(get_image_size)"
   ]
  },
  {
   "cell_type": "code",
   "execution_count": 6,
   "metadata": {},
   "outputs": [
    {
     "name": "stderr",
     "output_type": "stream",
     "text": [
      "C:\\Users\\caotu\\AppData\\Local\\Temp\\ipykernel_1352\\3585859355.py:1: SettingWithCopyWarning: \n",
      "A value is trying to be set on a copy of a slice from a DataFrame.\n",
      "Try using .loc[row_indexer,col_indexer] = value instead\n",
      "\n",
      "See the caveats in the documentation: https://pandas.pydata.org/pandas-docs/stable/user_guide/indexing.html#returning-a-view-versus-a-copy\n",
      "  df[\"personal_id_size\"] = df[\"personal_id_url\"].apply(get_image_size)\n"
     ]
    }
   ],
   "source": [
    "df[\"personal_id_size\"] = df[\"personal_id_url\"].apply(get_image_size)"
   ]
  },
  {
   "cell_type": "code",
   "execution_count": 7,
   "metadata": {},
   "outputs": [
    {
     "name": "stderr",
     "output_type": "stream",
     "text": [
      "C:\\Users\\caotu\\AppData\\Local\\Temp\\ipykernel_1352\\4070553056.py:1: SettingWithCopyWarning: \n",
      "A value is trying to be set on a copy of a slice from a DataFrame.\n",
      "Try using .loc[row_indexer,col_indexer] = value instead\n",
      "\n",
      "See the caveats in the documentation: https://pandas.pydata.org/pandas-docs/stable/user_guide/indexing.html#returning-a-view-versus-a-copy\n",
      "  df[\"selfie_size\"] = df[\"selfie_url\"].apply(get_image_size)\n"
     ]
    }
   ],
   "source": [
    "df[\"selfie_size\"] = df[\"selfie_url\"].apply(get_image_size)"
   ]
  },
  {
   "cell_type": "code",
   "execution_count": 8,
   "metadata": {},
   "outputs": [
    {
     "data": {
      "text/html": [
       "<div>\n",
       "<style scoped>\n",
       "    .dataframe tbody tr th:only-of-type {\n",
       "        vertical-align: middle;\n",
       "    }\n",
       "\n",
       "    .dataframe tbody tr th {\n",
       "        vertical-align: top;\n",
       "    }\n",
       "\n",
       "    .dataframe thead th {\n",
       "        text-align: right;\n",
       "    }\n",
       "</style>\n",
       "<table border=\"1\" class=\"dataframe\">\n",
       "  <thead>\n",
       "    <tr style=\"text-align: right;\">\n",
       "      <th></th>\n",
       "      <th>username</th>\n",
       "      <th>Loan_code</th>\n",
       "      <th>back_personal_id_url</th>\n",
       "      <th>personal_id_url</th>\n",
       "      <th>selfie_url</th>\n",
       "      <th>Device_Token</th>\n",
       "      <th>back_personal_id_size</th>\n",
       "      <th>personal_id_size</th>\n",
       "      <th>selfie_size</th>\n",
       "    </tr>\n",
       "  </thead>\n",
       "  <tbody>\n",
       "    <tr>\n",
       "      <th>66000</th>\n",
       "      <td>20.0200</td>\n",
       "      <td>100000581986</td>\n",
       "      <td>https://vnpost.vaytc.vn/html/20220909082253737...</td>\n",
       "      <td>https://vnpost.vaytc.vn/html/20220909082247623...</td>\n",
       "      <td>https://vnpost.vaytc.vn/html/20220909082240114...</td>\n",
       "      <td>1</td>\n",
       "      <td>1840*1187</td>\n",
       "      <td>1850*1259</td>\n",
       "      <td>1440*1440</td>\n",
       "    </tr>\n",
       "    <tr>\n",
       "      <th>66001</th>\n",
       "      <td>20.0200</td>\n",
       "      <td>100000582005</td>\n",
       "      <td>https://vnpost.vaytc.vn/html/20221117114204597...</td>\n",
       "      <td>https://vnpost.vaytc.vn/html/20221117114159324...</td>\n",
       "      <td>https://vnpost.vaytc.vn/html/20221117114154282...</td>\n",
       "      <td>1</td>\n",
       "      <td>777*518</td>\n",
       "      <td>851*588</td>\n",
       "      <td>960*1280</td>\n",
       "    </tr>\n",
       "    <tr>\n",
       "      <th>66002</th>\n",
       "      <td>20.0200</td>\n",
       "      <td>100000582057</td>\n",
       "      <td>https://vnpost.vaytc.vn/html/20221117114204597...</td>\n",
       "      <td>https://vnpost.vaytc.vn/html/20221117114159324...</td>\n",
       "      <td>https://vnpost.vaytc.vn/html/20221117114154282...</td>\n",
       "      <td>1</td>\n",
       "      <td>777*518</td>\n",
       "      <td>851*588</td>\n",
       "      <td>960*1280</td>\n",
       "    </tr>\n",
       "    <tr>\n",
       "      <th>66003</th>\n",
       "      <td>20.0200</td>\n",
       "      <td>100000582699</td>\n",
       "      <td>https://vnpost.vaytc.vn/html/20221117151145501...</td>\n",
       "      <td>https://vnpost.vaytc.vn/html/20221117151139801...</td>\n",
       "      <td>https://vnpost.vaytc.vn/html/20221117151133626...</td>\n",
       "      <td>1</td>\n",
       "      <td>1133*759</td>\n",
       "      <td>1201*804</td>\n",
       "      <td>613*1204</td>\n",
       "    </tr>\n",
       "    <tr>\n",
       "      <th>66004</th>\n",
       "      <td>20.0200</td>\n",
       "      <td>100000582932</td>\n",
       "      <td>https://vnpost.vaytc.vn/html/20221117161942162...</td>\n",
       "      <td>https://vnpost.vaytc.vn/html/20221117161934608...</td>\n",
       "      <td>https://vnpost.vaytc.vn/html/20221117161929574...</td>\n",
       "      <td>1</td>\n",
       "      <td>1379*875</td>\n",
       "      <td>1120*772</td>\n",
       "      <td>1489*1840</td>\n",
       "    </tr>\n",
       "    <tr>\n",
       "      <th>...</th>\n",
       "      <td>...</td>\n",
       "      <td>...</td>\n",
       "      <td>...</td>\n",
       "      <td>...</td>\n",
       "      <td>...</td>\n",
       "      <td>...</td>\n",
       "      <td>...</td>\n",
       "      <td>...</td>\n",
       "      <td>...</td>\n",
       "    </tr>\n",
       "    <tr>\n",
       "      <th>66995</th>\n",
       "      <td>16838</td>\n",
       "      <td>100000666097</td>\n",
       "      <td>https://vnpost.vaytc.vn/html/20221226141048118...</td>\n",
       "      <td>https://vnpost.vaytc.vn/html/20221226141042214...</td>\n",
       "      <td>https://vnpost.vaytc.vn/html/20221226141036861...</td>\n",
       "      <td>1</td>\n",
       "      <td>1280*960</td>\n",
       "      <td>1280*960</td>\n",
       "      <td>960*1280</td>\n",
       "    </tr>\n",
       "    <tr>\n",
       "      <th>66996</th>\n",
       "      <td>16838</td>\n",
       "      <td>100000666181</td>\n",
       "      <td>https://vnpost.vaytc.vn/html/20221226142454564...</td>\n",
       "      <td>https://vnpost.vaytc.vn/html/20221226142448948...</td>\n",
       "      <td>https://vnpost.vaytc.vn/html/20221226142440562...</td>\n",
       "      <td>1</td>\n",
       "      <td>1280*960</td>\n",
       "      <td>1280*960</td>\n",
       "      <td>960*1280</td>\n",
       "    </tr>\n",
       "    <tr>\n",
       "      <th>66997</th>\n",
       "      <td>16838</td>\n",
       "      <td>100000668448</td>\n",
       "      <td>https://vnpost.vaytc.vn/html/20221227105502430...</td>\n",
       "      <td>https://vnpost.vaytc.vn/html/20221227105456355...</td>\n",
       "      <td>https://vnpost.vaytc.vn/html/20221227105448189...</td>\n",
       "      <td>1</td>\n",
       "      <td>960*1280</td>\n",
       "      <td>960*1280</td>\n",
       "      <td>1280*1280</td>\n",
       "    </tr>\n",
       "    <tr>\n",
       "      <th>66998</th>\n",
       "      <td>16838</td>\n",
       "      <td>100000668569</td>\n",
       "      <td>https://vnpost.vaytc.vn/html/20221227112443058...</td>\n",
       "      <td>https://vnpost.vaytc.vn/html/20221227112436715...</td>\n",
       "      <td>https://vnpost.vaytc.vn/html/20221227112429843...</td>\n",
       "      <td>1</td>\n",
       "      <td>960*1280</td>\n",
       "      <td>960*1280</td>\n",
       "      <td>1280*1280</td>\n",
       "    </tr>\n",
       "    <tr>\n",
       "      <th>66999</th>\n",
       "      <td>16838</td>\n",
       "      <td>100000668580</td>\n",
       "      <td>https://vnpost.vaytc.vn/html/20221227112443058...</td>\n",
       "      <td>https://vnpost.vaytc.vn/html/20221227112436715...</td>\n",
       "      <td>https://vnpost.vaytc.vn/html/20221227112429843...</td>\n",
       "      <td>1</td>\n",
       "      <td>960*1280</td>\n",
       "      <td>960*1280</td>\n",
       "      <td>1280*1280</td>\n",
       "    </tr>\n",
       "  </tbody>\n",
       "</table>\n",
       "<p>1000 rows × 9 columns</p>\n",
       "</div>"
      ],
      "text/plain": [
       "      username     Loan_code  \\\n",
       "66000  20.0200  100000581986   \n",
       "66001  20.0200  100000582005   \n",
       "66002  20.0200  100000582057   \n",
       "66003  20.0200  100000582699   \n",
       "66004  20.0200  100000582932   \n",
       "...        ...           ...   \n",
       "66995    16838  100000666097   \n",
       "66996    16838  100000666181   \n",
       "66997    16838  100000668448   \n",
       "66998    16838  100000668569   \n",
       "66999    16838  100000668580   \n",
       "\n",
       "                                    back_personal_id_url  \\\n",
       "66000  https://vnpost.vaytc.vn/html/20220909082253737...   \n",
       "66001  https://vnpost.vaytc.vn/html/20221117114204597...   \n",
       "66002  https://vnpost.vaytc.vn/html/20221117114204597...   \n",
       "66003  https://vnpost.vaytc.vn/html/20221117151145501...   \n",
       "66004  https://vnpost.vaytc.vn/html/20221117161942162...   \n",
       "...                                                  ...   \n",
       "66995  https://vnpost.vaytc.vn/html/20221226141048118...   \n",
       "66996  https://vnpost.vaytc.vn/html/20221226142454564...   \n",
       "66997  https://vnpost.vaytc.vn/html/20221227105502430...   \n",
       "66998  https://vnpost.vaytc.vn/html/20221227112443058...   \n",
       "66999  https://vnpost.vaytc.vn/html/20221227112443058...   \n",
       "\n",
       "                                         personal_id_url  \\\n",
       "66000  https://vnpost.vaytc.vn/html/20220909082247623...   \n",
       "66001  https://vnpost.vaytc.vn/html/20221117114159324...   \n",
       "66002  https://vnpost.vaytc.vn/html/20221117114159324...   \n",
       "66003  https://vnpost.vaytc.vn/html/20221117151139801...   \n",
       "66004  https://vnpost.vaytc.vn/html/20221117161934608...   \n",
       "...                                                  ...   \n",
       "66995  https://vnpost.vaytc.vn/html/20221226141042214...   \n",
       "66996  https://vnpost.vaytc.vn/html/20221226142448948...   \n",
       "66997  https://vnpost.vaytc.vn/html/20221227105456355...   \n",
       "66998  https://vnpost.vaytc.vn/html/20221227112436715...   \n",
       "66999  https://vnpost.vaytc.vn/html/20221227112436715...   \n",
       "\n",
       "                                              selfie_url  Device_Token  \\\n",
       "66000  https://vnpost.vaytc.vn/html/20220909082240114...             1   \n",
       "66001  https://vnpost.vaytc.vn/html/20221117114154282...             1   \n",
       "66002  https://vnpost.vaytc.vn/html/20221117114154282...             1   \n",
       "66003  https://vnpost.vaytc.vn/html/20221117151133626...             1   \n",
       "66004  https://vnpost.vaytc.vn/html/20221117161929574...             1   \n",
       "...                                                  ...           ...   \n",
       "66995  https://vnpost.vaytc.vn/html/20221226141036861...             1   \n",
       "66996  https://vnpost.vaytc.vn/html/20221226142440562...             1   \n",
       "66997  https://vnpost.vaytc.vn/html/20221227105448189...             1   \n",
       "66998  https://vnpost.vaytc.vn/html/20221227112429843...             1   \n",
       "66999  https://vnpost.vaytc.vn/html/20221227112429843...             1   \n",
       "\n",
       "      back_personal_id_size personal_id_size selfie_size  \n",
       "66000             1840*1187        1850*1259   1440*1440  \n",
       "66001               777*518          851*588    960*1280  \n",
       "66002               777*518          851*588    960*1280  \n",
       "66003              1133*759         1201*804    613*1204  \n",
       "66004              1379*875         1120*772   1489*1840  \n",
       "...                     ...              ...         ...  \n",
       "66995              1280*960         1280*960    960*1280  \n",
       "66996              1280*960         1280*960    960*1280  \n",
       "66997              960*1280         960*1280   1280*1280  \n",
       "66998              960*1280         960*1280   1280*1280  \n",
       "66999              960*1280         960*1280   1280*1280  \n",
       "\n",
       "[1000 rows x 9 columns]"
      ]
     },
     "execution_count": 8,
     "metadata": {},
     "output_type": "execute_result"
    }
   ],
   "source": [
    "df.head(999999)"
   ]
  },
  {
   "cell_type": "code",
   "execution_count": 9,
   "metadata": {},
   "outputs": [],
   "source": [
    "df.to_excel('66000_67000.xlsx', index = False)"
   ]
  }
 ],
 "metadata": {
  "kernelspec": {
   "display_name": "Python 3",
   "language": "python",
   "name": "python3"
  },
  "language_info": {
   "codemirror_mode": {
    "name": "ipython",
    "version": 3
   },
   "file_extension": ".py",
   "mimetype": "text/x-python",
   "name": "python",
   "nbconvert_exporter": "python",
   "pygments_lexer": "ipython3",
   "version": "3.10.10"
  },
  "orig_nbformat": 4,
  "vscode": {
   "interpreter": {
    "hash": "24243cda43ec6c82e241bb7f91050e6c2524506d26b8038f6383448c643cbb59"
   }
  }
 },
 "nbformat": 4,
 "nbformat_minor": 2
}
